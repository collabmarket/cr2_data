{
 "cells": [
  {
   "cell_type": "markdown",
   "metadata": {},
   "source": [
    "## Ejecutar cr2 carga Variables mensuales:\n",
    "\n",
    "- prec = 'Precipitacion' \n",
    "- caud = 'Caudal'\n",
    "- temp = 'Temperatura'\n",
    "- tmax = 'Temperatura max'\n",
    "- tmin = 'Temperatura min'"
   ]
  },
  {
   "cell_type": "code",
   "execution_count": 1,
   "metadata": {
    "collapsed": true
   },
   "outputs": [],
   "source": [
    "# Equivalente a lo siguiente\n",
    "# from cr2 import *\n",
    "# prec = Cr2('p')\n",
    "# caud = Cr2('q')\n",
    "# temp = Cr2('t')\n",
    "# tmin = Cr2('tmin')\n",
    "# tmax = Cr2('tmax')\n",
    "\n",
    "%run cr2.py"
   ]
  },
  {
   "cell_type": "code",
   "execution_count": 2,
   "metadata": {
    "collapsed": false
   },
   "outputs": [
    {
     "name": "stdout",
     "output_type": "stream",
     "text": [
      "['__doc__', '__init__', '__module__', 'busca', 'df', 'filename', 'get_df', 'get_meta', 'iname', 'kname', 'meta', 'open_sources', 'plot_annual', 'plot_month', 'plot_simple', 'units', 'var', 'varname']\n"
     ]
    }
   ],
   "source": [
    "### Listados de métodos para objeto 'prec'\n",
    "print dir(prec)"
   ]
  },
  {
   "cell_type": "markdown",
   "metadata": {},
   "source": [
    "### Buscar Estacion por 'nombre'"
   ]
  },
  {
   "cell_type": "code",
   "execution_count": 3,
   "metadata": {
    "collapsed": false
   },
   "outputs": [
    {
     "data": {
      "text/html": [
       "<div>\n",
       "<table border=\"1\" class=\"dataframe\">\n",
       "  <thead>\n",
       "    <tr style=\"text-align: right;\">\n",
       "      <th></th>\n",
       "      <th>codigo_estacion</th>\n",
       "      <th>institucion</th>\n",
       "      <th>fuente</th>\n",
       "      <th>nombre</th>\n",
       "      <th>altura</th>\n",
       "      <th>latitud</th>\n",
       "      <th>longitud</th>\n",
       "      <th>codigo_cuenca</th>\n",
       "      <th>nombre_cuenca</th>\n",
       "      <th>codigo_sub_cuenca</th>\n",
       "      <th>nombre_sub_cuenca</th>\n",
       "      <th>inicio_observaciones</th>\n",
       "      <th>fin_observaciones</th>\n",
       "      <th>cantidad_observaciones</th>\n",
       "    </tr>\n",
       "  </thead>\n",
       "  <tbody>\n",
       "    <tr>\n",
       "      <th>289</th>\n",
       "      <td>05410007</td>\n",
       "      <td>DGA</td>\n",
       "      <td>dga_web</td>\n",
       "      <td>Los Andes</td>\n",
       "      <td>820</td>\n",
       "      <td>-32.8336</td>\n",
       "      <td>-70.6</td>\n",
       "      <td>54</td>\n",
       "      <td>Rio Aconcagua</td>\n",
       "      <td>541</td>\n",
       "      <td>Aconcagua Medio</td>\n",
       "      <td>1971-08-01 00:00:00</td>\n",
       "      <td>2015-12-01 00:00:00</td>\n",
       "      <td>513</td>\n",
       "    </tr>\n",
       "    <tr>\n",
       "      <th>896</th>\n",
       "      <td>320029</td>\n",
       "      <td>DMC</td>\n",
       "      <td>dmc_anuarios</td>\n",
       "      <td>Los Andes Comisaria</td>\n",
       "      <td>819</td>\n",
       "      <td>-32.835</td>\n",
       "      <td>-70.6075</td>\n",
       "      <td>50</td>\n",
       "      <td>Costeras Quilimari-Petorca</td>\n",
       "      <td>500</td>\n",
       "      <td>Costeras Quilimari - Petorca</td>\n",
       "      <td>1979-02-01 00:00:00</td>\n",
       "      <td>2002-08-01 00:00:00</td>\n",
       "      <td>270</td>\n",
       "    </tr>\n",
       "  </tbody>\n",
       "</table>\n",
       "</div>"
      ],
      "text/plain": [
       "0   codigo_estacion institucion        fuente               nombre altura  \\\n",
       "289        05410007         DGA       dga_web            Los Andes    820   \n",
       "896          320029         DMC  dmc_anuarios  Los Andes Comisaria    819   \n",
       "\n",
       "0     latitud  longitud codigo_cuenca               nombre_cuenca  \\\n",
       "289  -32.8336     -70.6            54               Rio Aconcagua   \n",
       "896   -32.835  -70.6075            50  Costeras Quilimari-Petorca   \n",
       "\n",
       "0   codigo_sub_cuenca             nombre_sub_cuenca inicio_observaciones  \\\n",
       "289               541               Aconcagua Medio  1971-08-01 00:00:00   \n",
       "896               500  Costeras Quilimari - Petorca  1979-02-01 00:00:00   \n",
       "\n",
       "0      fin_observaciones cantidad_observaciones  \n",
       "289  2015-12-01 00:00:00                    513  \n",
       "896  2002-08-01 00:00:00                    270  "
      ]
     },
     "execution_count": 3,
     "metadata": {},
     "output_type": "execute_result"
    }
   ],
   "source": [
    "prec.busca('Andes')"
   ]
  },
  {
   "cell_type": "markdown",
   "metadata": {},
   "source": [
    "## Graficos base"
   ]
  },
  {
   "cell_type": "code",
   "execution_count": 4,
   "metadata": {
    "collapsed": false
   },
   "outputs": [
    {
     "data": {
      "image/png": "[encoded data removed]",
      "text/plain": [
       "<matplotlib.figure.Figure at 0xa8d2358>"
      ]
     },
     "metadata": {},
     "output_type": "display_data"
    }
   ],
   "source": [
    "# Grafico simple\n",
    "prec.plot_simple(289)"
   ]
  },
  {
   "cell_type": "code",
   "execution_count": 5,
   "metadata": {
    "collapsed": false
   },
   "outputs": [
    {
     "data": {
      "image/png": "[encoded data removed]",
      "text/plain": [
       "<matplotlib.figure.Figure at 0xaa968d0>"
      ]
     },
     "metadata": {},
     "output_type": "display_data"
    }
   ],
   "source": [
    "# Grafo precipitacion mensual promedio\n",
    "prec.plot_month(289)"
   ]
  },
  {
   "cell_type": "code",
   "execution_count": 6,
   "metadata": {
    "collapsed": false
   },
   "outputs": [
    {
     "data": {
      "image/png": "[encoded data removed]",
      "text/plain": [
       "<matplotlib.figure.Figure at 0xa571be0>"
      ]
     },
     "metadata": {},
     "output_type": "display_data"
    }
   ],
   "source": [
    "# Grafico precipitacion anual\n",
    "prec.plot_annual(289)"
   ]
  },
  {
   "cell_type": "markdown",
   "metadata": {},
   "source": [
    "### Acceso directo a los datos"
   ]
  },
  {
   "cell_type": "code",
   "execution_count": 7,
   "metadata": {
    "collapsed": false
   },
   "outputs": [
    {
     "name": "stdout",
     "output_type": "stream",
     "text": [
      "<class 'pandas.core.frame.DataFrame'>\n",
      "DatetimeIndex: 1037 entries, 1930-01-01 to 2016-05-01\n",
      "Columns: 1150 entries, 1 to 1150\n",
      "dtypes: float64(1150)\n",
      "memory usage: 9.1 MB\n",
      "None\n"
     ]
    },
    {
     "data": {
      "text/html": [
       "<div>\n",
       "<table border=\"1\" class=\"dataframe\">\n",
       "  <thead>\n",
       "    <tr style=\"text-align: right;\">\n",
       "      <th></th>\n",
       "      <th>1</th>\n",
       "      <th>2</th>\n",
       "      <th>3</th>\n",
       "      <th>4</th>\n",
       "      <th>5</th>\n",
       "      <th>6</th>\n",
       "      <th>7</th>\n",
       "      <th>8</th>\n",
       "      <th>9</th>\n",
       "      <th>10</th>\n",
       "      <th>...</th>\n",
       "      <th>1141</th>\n",
       "      <th>1142</th>\n",
       "      <th>1143</th>\n",
       "      <th>1144</th>\n",
       "      <th>1145</th>\n",
       "      <th>1146</th>\n",
       "      <th>1147</th>\n",
       "      <th>1148</th>\n",
       "      <th>1149</th>\n",
       "      <th>1150</th>\n",
       "    </tr>\n",
       "    <tr>\n",
       "      <th>Date</th>\n",
       "      <th></th>\n",
       "      <th></th>\n",
       "      <th></th>\n",
       "      <th></th>\n",
       "      <th></th>\n",
       "      <th></th>\n",
       "      <th></th>\n",
       "      <th></th>\n",
       "      <th></th>\n",
       "      <th></th>\n",
       "      <th></th>\n",
       "      <th></th>\n",
       "      <th></th>\n",
       "      <th></th>\n",
       "      <th></th>\n",
       "      <th></th>\n",
       "      <th></th>\n",
       "      <th></th>\n",
       "      <th></th>\n",
       "      <th></th>\n",
       "      <th></th>\n",
       "    </tr>\n",
       "  </thead>\n",
       "  <tbody>\n",
       "    <tr>\n",
       "      <th>2016-01-01</th>\n",
       "      <td>38.4</td>\n",
       "      <td>6.9</td>\n",
       "      <td>11.0</td>\n",
       "      <td>0.0</td>\n",
       "      <td>4.2</td>\n",
       "      <td>9.8</td>\n",
       "      <td>41.2</td>\n",
       "      <td>NaN</td>\n",
       "      <td>NaN</td>\n",
       "      <td>24.9</td>\n",
       "      <td>...</td>\n",
       "      <td>4.6</td>\n",
       "      <td>6.7</td>\n",
       "      <td>22.2</td>\n",
       "      <td>1.4</td>\n",
       "      <td>0.6</td>\n",
       "      <td>NaN</td>\n",
       "      <td>6.8</td>\n",
       "      <td>7.4</td>\n",
       "      <td>12.5</td>\n",
       "      <td>NaN</td>\n",
       "    </tr>\n",
       "    <tr>\n",
       "      <th>2016-02-01</th>\n",
       "      <td>129.8</td>\n",
       "      <td>NaN</td>\n",
       "      <td>NaN</td>\n",
       "      <td>NaN</td>\n",
       "      <td>NaN</td>\n",
       "      <td>NaN</td>\n",
       "      <td>NaN</td>\n",
       "      <td>NaN</td>\n",
       "      <td>NaN</td>\n",
       "      <td>NaN</td>\n",
       "      <td>...</td>\n",
       "      <td>0.0</td>\n",
       "      <td>0.0</td>\n",
       "      <td>24.3</td>\n",
       "      <td>0.0</td>\n",
       "      <td>0.0</td>\n",
       "      <td>NaN</td>\n",
       "      <td>42.6</td>\n",
       "      <td>42.3</td>\n",
       "      <td>45.1</td>\n",
       "      <td>71.6</td>\n",
       "    </tr>\n",
       "    <tr>\n",
       "      <th>2016-03-01</th>\n",
       "      <td>2.2</td>\n",
       "      <td>NaN</td>\n",
       "      <td>NaN</td>\n",
       "      <td>NaN</td>\n",
       "      <td>NaN</td>\n",
       "      <td>NaN</td>\n",
       "      <td>NaN</td>\n",
       "      <td>NaN</td>\n",
       "      <td>NaN</td>\n",
       "      <td>NaN</td>\n",
       "      <td>...</td>\n",
       "      <td>0.0</td>\n",
       "      <td>0.0</td>\n",
       "      <td>44.8</td>\n",
       "      <td>0.0</td>\n",
       "      <td>19.4</td>\n",
       "      <td>NaN</td>\n",
       "      <td>16.4</td>\n",
       "      <td>21.6</td>\n",
       "      <td>20.4</td>\n",
       "      <td>33.6</td>\n",
       "    </tr>\n",
       "    <tr>\n",
       "      <th>2016-04-01</th>\n",
       "      <td>33.8</td>\n",
       "      <td>NaN</td>\n",
       "      <td>NaN</td>\n",
       "      <td>NaN</td>\n",
       "      <td>NaN</td>\n",
       "      <td>NaN</td>\n",
       "      <td>NaN</td>\n",
       "      <td>NaN</td>\n",
       "      <td>NaN</td>\n",
       "      <td>NaN</td>\n",
       "      <td>...</td>\n",
       "      <td>98.0</td>\n",
       "      <td>152.2</td>\n",
       "      <td>92.7</td>\n",
       "      <td>101.2</td>\n",
       "      <td>89.4</td>\n",
       "      <td>NaN</td>\n",
       "      <td>174.2</td>\n",
       "      <td>123.1</td>\n",
       "      <td>11.0</td>\n",
       "      <td>43.0</td>\n",
       "    </tr>\n",
       "    <tr>\n",
       "      <th>2016-05-01</th>\n",
       "      <td>15.0</td>\n",
       "      <td>NaN</td>\n",
       "      <td>NaN</td>\n",
       "      <td>NaN</td>\n",
       "      <td>NaN</td>\n",
       "      <td>NaN</td>\n",
       "      <td>NaN</td>\n",
       "      <td>NaN</td>\n",
       "      <td>NaN</td>\n",
       "      <td>NaN</td>\n",
       "      <td>...</td>\n",
       "      <td>NaN</td>\n",
       "      <td>NaN</td>\n",
       "      <td>NaN</td>\n",
       "      <td>NaN</td>\n",
       "      <td>NaN</td>\n",
       "      <td>NaN</td>\n",
       "      <td>NaN</td>\n",
       "      <td>NaN</td>\n",
       "      <td>NaN</td>\n",
       "      <td>NaN</td>\n",
       "    </tr>\n",
       "  </tbody>\n",
       "</table>\n",
       "<p>5 rows × 1150 columns</p>\n",
       "</div>"
      ],
      "text/plain": [
       "0            1     2     3     4     5     6     7     8     9     10    ...   \\\n",
       "Date                                                                     ...    \n",
       "2016-01-01   38.4   6.9  11.0   0.0   4.2   9.8  41.2   NaN   NaN  24.9  ...    \n",
       "2016-02-01  129.8   NaN   NaN   NaN   NaN   NaN   NaN   NaN   NaN   NaN  ...    \n",
       "2016-03-01    2.2   NaN   NaN   NaN   NaN   NaN   NaN   NaN   NaN   NaN  ...    \n",
       "2016-04-01   33.8   NaN   NaN   NaN   NaN   NaN   NaN   NaN   NaN   NaN  ...    \n",
       "2016-05-01   15.0   NaN   NaN   NaN   NaN   NaN   NaN   NaN   NaN   NaN  ...    \n",
       "\n",
       "0           1141   1142  1143   1144  1145  1146   1147   1148  1149  1150  \n",
       "Date                                                                        \n",
       "2016-01-01   4.6    6.7  22.2    1.4   0.6   NaN    6.8    7.4  12.5   NaN  \n",
       "2016-02-01   0.0    0.0  24.3    0.0   0.0   NaN   42.6   42.3  45.1  71.6  \n",
       "2016-03-01   0.0    0.0  44.8    0.0  19.4   NaN   16.4   21.6  20.4  33.6  \n",
       "2016-04-01  98.0  152.2  92.7  101.2  89.4   NaN  174.2  123.1  11.0  43.0  \n",
       "2016-05-01   NaN    NaN   NaN    NaN   NaN   NaN    NaN    NaN   NaN   NaN  \n",
       "\n",
       "[5 rows x 1150 columns]"
      ]
     },
     "execution_count": 7,
     "metadata": {},
     "output_type": "execute_result"
    }
   ],
   "source": [
    "print prec.df.info()\n",
    "prec.df.tail()"
   ]
  },
  {
   "cell_type": "markdown",
   "metadata": {},
   "source": [
    "### Acceso directo a los metadatos"
   ]
  },
  {
   "cell_type": "code",
   "execution_count": 8,
   "metadata": {
    "collapsed": false
   },
   "outputs": [
    {
     "name": "stdout",
     "output_type": "stream",
     "text": [
      "<class 'pandas.core.frame.DataFrame'>\n",
      "Index: 14 entries, codigo_estacion to cantidad_observaciones\n",
      "Columns: 1150 entries, 1 to 1150\n",
      "dtypes: object(1150)\n",
      "memory usage: 125.9+ KB\n",
      "None\n"
     ]
    },
    {
     "data": {
      "text/html": [
       "<div>\n",
       "<table border=\"1\" class=\"dataframe\">\n",
       "  <thead>\n",
       "    <tr style=\"text-align: right;\">\n",
       "      <th></th>\n",
       "      <th>1</th>\n",
       "      <th>2</th>\n",
       "      <th>3</th>\n",
       "      <th>4</th>\n",
       "      <th>5</th>\n",
       "      <th>6</th>\n",
       "      <th>7</th>\n",
       "      <th>8</th>\n",
       "      <th>9</th>\n",
       "      <th>10</th>\n",
       "      <th>...</th>\n",
       "      <th>1141</th>\n",
       "      <th>1142</th>\n",
       "      <th>1143</th>\n",
       "      <th>1144</th>\n",
       "      <th>1145</th>\n",
       "      <th>1146</th>\n",
       "      <th>1147</th>\n",
       "      <th>1148</th>\n",
       "      <th>1149</th>\n",
       "      <th>1150</th>\n",
       "    </tr>\n",
       "    <tr>\n",
       "      <th>0</th>\n",
       "      <th></th>\n",
       "      <th></th>\n",
       "      <th></th>\n",
       "      <th></th>\n",
       "      <th></th>\n",
       "      <th></th>\n",
       "      <th></th>\n",
       "      <th></th>\n",
       "      <th></th>\n",
       "      <th></th>\n",
       "      <th></th>\n",
       "      <th></th>\n",
       "      <th></th>\n",
       "      <th></th>\n",
       "      <th></th>\n",
       "      <th></th>\n",
       "      <th></th>\n",
       "      <th></th>\n",
       "      <th></th>\n",
       "      <th></th>\n",
       "      <th></th>\n",
       "    </tr>\n",
       "  </thead>\n",
       "  <tbody>\n",
       "    <tr>\n",
       "      <th>codigo_estacion</th>\n",
       "      <td>01000005</td>\n",
       "      <td>01200002</td>\n",
       "      <td>01200003</td>\n",
       "      <td>01201005</td>\n",
       "      <td>01201010</td>\n",
       "      <td>01201003</td>\n",
       "      <td>01001005</td>\n",
       "      <td>01110001</td>\n",
       "      <td>01202009</td>\n",
       "      <td>01020014</td>\n",
       "      <td>...</td>\n",
       "      <td>330021</td>\n",
       "      <td>330019</td>\n",
       "      <td>330031</td>\n",
       "      <td>330030</td>\n",
       "      <td>370033</td>\n",
       "      <td>420004</td>\n",
       "      <td>430002</td>\n",
       "      <td>430004</td>\n",
       "      <td>510005</td>\n",
       "      <td>530005</td>\n",
       "    </tr>\n",
       "    <tr>\n",
       "      <th>institucion</th>\n",
       "      <td>DGA</td>\n",
       "      <td>DGA</td>\n",
       "      <td>DGA</td>\n",
       "      <td>DGA</td>\n",
       "      <td>DGA</td>\n",
       "      <td>DGA</td>\n",
       "      <td>DGA</td>\n",
       "      <td>DGA</td>\n",
       "      <td>DGA</td>\n",
       "      <td>DGA</td>\n",
       "      <td>...</td>\n",
       "      <td>DMC</td>\n",
       "      <td>DMC</td>\n",
       "      <td>DMC</td>\n",
       "      <td>DMC</td>\n",
       "      <td>DMC</td>\n",
       "      <td>DMC</td>\n",
       "      <td>DMC</td>\n",
       "      <td>DMC</td>\n",
       "      <td>DMC</td>\n",
       "      <td>DMC</td>\n",
       "    </tr>\n",
       "    <tr>\n",
       "      <th>fuente</th>\n",
       "      <td>dga_web</td>\n",
       "      <td>dga_web</td>\n",
       "      <td>dga_web</td>\n",
       "      <td>dga_web</td>\n",
       "      <td>dga_web</td>\n",
       "      <td>dga_web</td>\n",
       "      <td>dga_web</td>\n",
       "      <td>dga_web</td>\n",
       "      <td>dga_web</td>\n",
       "      <td>dga_web</td>\n",
       "      <td>...</td>\n",
       "      <td>dmc_web</td>\n",
       "      <td>dmc_web</td>\n",
       "      <td>dmc_web</td>\n",
       "      <td>dmc_web</td>\n",
       "      <td>dmc_web</td>\n",
       "      <td>dmc_web</td>\n",
       "      <td>dmc_web</td>\n",
       "      <td>dmc_web</td>\n",
       "      <td>dmc_web</td>\n",
       "      <td>dmc_web</td>\n",
       "    </tr>\n",
       "    <tr>\n",
       "      <th>nombre</th>\n",
       "      <td>Visviri</td>\n",
       "      <td>Villa Industrial (Tacora)</td>\n",
       "      <td>Humapalca</td>\n",
       "      <td>Rio Caracarani En Humapalca</td>\n",
       "      <td>Alcerreca</td>\n",
       "      <td>Rio Lluta En Alcerreca</td>\n",
       "      <td>Caquena</td>\n",
       "      <td>Puquios</td>\n",
       "      <td>Pacollo</td>\n",
       "      <td>Cotacotani</td>\n",
       "      <td>...</td>\n",
       "      <td>Pudahuel Santiago</td>\n",
       "      <td>Eulogio Sanchez Tobalaba Ad.</td>\n",
       "      <td>Juan Fernandez Estacion Meteorologica</td>\n",
       "      <td>Santo Domingo Ad.</td>\n",
       "      <td>Maria Dolores Los Angeles Ad.</td>\n",
       "      <td>Chaiten Ad.</td>\n",
       "      <td>Futaleufu Ad.</td>\n",
       "      <td>Alto Palenaad.</td>\n",
       "      <td>Teniente Gallardo Puerto Natales Ad.</td>\n",
       "      <td>Fuentes Martinez Porvenir Ad.</td>\n",
       "    </tr>\n",
       "    <tr>\n",
       "      <th>altura</th>\n",
       "      <td>4080</td>\n",
       "      <td>4080</td>\n",
       "      <td>3980</td>\n",
       "      <td>3908</td>\n",
       "      <td>3990</td>\n",
       "      <td>3550</td>\n",
       "      <td>4400</td>\n",
       "      <td>3750</td>\n",
       "      <td>4185</td>\n",
       "      <td>4550</td>\n",
       "      <td>...</td>\n",
       "      <td>482</td>\n",
       "      <td>650</td>\n",
       "      <td>35</td>\n",
       "      <td>75</td>\n",
       "      <td>120</td>\n",
       "      <td>10</td>\n",
       "      <td>347</td>\n",
       "      <td>281</td>\n",
       "      <td>69</td>\n",
       "      <td>27</td>\n",
       "    </tr>\n",
       "    <tr>\n",
       "      <th>latitud</th>\n",
       "      <td>-17.595</td>\n",
       "      <td>-17.7719</td>\n",
       "      <td>-17.835</td>\n",
       "      <td>-17.8428</td>\n",
       "      <td>-17.9931</td>\n",
       "      <td>-18.0036</td>\n",
       "      <td>-18.0542</td>\n",
       "      <td>-18.1747</td>\n",
       "      <td>-18.1769</td>\n",
       "      <td>-18.1836</td>\n",
       "      <td>...</td>\n",
       "      <td>-33.3919</td>\n",
       "      <td>-33.4544</td>\n",
       "      <td>-33.6367</td>\n",
       "      <td>-33.655</td>\n",
       "      <td>-37.4028</td>\n",
       "      <td>-42.9303</td>\n",
       "      <td>-43.1889</td>\n",
       "      <td>-43.6117</td>\n",
       "      <td>-51.6672</td>\n",
       "      <td>-53.1875</td>\n",
       "    </tr>\n",
       "    <tr>\n",
       "      <th>longitud</th>\n",
       "      <td>-69.4831</td>\n",
       "      <td>-69.7244</td>\n",
       "      <td>-69.7039</td>\n",
       "      <td>-69.6994</td>\n",
       "      <td>-69.6594</td>\n",
       "      <td>-69.6331</td>\n",
       "      <td>-69.2017</td>\n",
       "      <td>-69.7439</td>\n",
       "      <td>-69.5092</td>\n",
       "      <td>-69.2328</td>\n",
       "      <td>...</td>\n",
       "      <td>-70.7944</td>\n",
       "      <td>-70.5478</td>\n",
       "      <td>-78.835</td>\n",
       "      <td>-71.6142</td>\n",
       "      <td>-72.4225</td>\n",
       "      <td>-72.7008</td>\n",
       "      <td>-71.8525</td>\n",
       "      <td>-71.8053</td>\n",
       "      <td>-72.5289</td>\n",
       "      <td>-70.3203</td>\n",
       "    </tr>\n",
       "    <tr>\n",
       "      <th>codigo_cuenca</th>\n",
       "      <td>10</td>\n",
       "      <td>12</td>\n",
       "      <td>12</td>\n",
       "      <td>12</td>\n",
       "      <td>12</td>\n",
       "      <td>12</td>\n",
       "      <td>10</td>\n",
       "      <td>11</td>\n",
       "      <td>12</td>\n",
       "      <td>10</td>\n",
       "      <td>...</td>\n",
       "      <td>57</td>\n",
       "      <td>57</td>\n",
       "      <td>50</td>\n",
       "      <td>50</td>\n",
       "      <td>81</td>\n",
       "      <td>104</td>\n",
       "      <td>104</td>\n",
       "      <td>104</td>\n",
       "      <td>122</td>\n",
       "      <td>128</td>\n",
       "    </tr>\n",
       "    <tr>\n",
       "      <th>nombre_cuenca</th>\n",
       "      <td>Altiplanicas</td>\n",
       "      <td>Rio Lluta</td>\n",
       "      <td>Rio Lluta</td>\n",
       "      <td>Rio Lluta</td>\n",
       "      <td>Rio Lluta</td>\n",
       "      <td>Rio Lluta</td>\n",
       "      <td>Altiplanicas</td>\n",
       "      <td>Quebrada De La Concordia</td>\n",
       "      <td>Rio Lluta</td>\n",
       "      <td>Altiplanicas</td>\n",
       "      <td>...</td>\n",
       "      <td>Rio Maipo</td>\n",
       "      <td>Rio Maipo</td>\n",
       "      <td>Costeras Quilimari-Petorca</td>\n",
       "      <td>Costeras Quilimari-Petorca</td>\n",
       "      <td>Rio Itata</td>\n",
       "      <td>Cuencas E Islas Entre R.Bueno Y R. Puelo</td>\n",
       "      <td>Cuencas E Islas Entre R.Bueno Y R. Puelo</td>\n",
       "      <td>Cuencas E Islas Entre R.Bueno Y R. Puelo</td>\n",
       "      <td>Costeras Entre Seno Andrew Y R. Hollemberg E I...</td>\n",
       "      <td>Tierra Del Fuego</td>\n",
       "    </tr>\n",
       "    <tr>\n",
       "      <th>codigo_sub_cuenca</th>\n",
       "      <td>100</td>\n",
       "      <td>120</td>\n",
       "      <td>120</td>\n",
       "      <td>120</td>\n",
       "      <td>120</td>\n",
       "      <td>120</td>\n",
       "      <td>100</td>\n",
       "      <td>111</td>\n",
       "      <td>120</td>\n",
       "      <td>102</td>\n",
       "      <td>...</td>\n",
       "      <td>573</td>\n",
       "      <td>573</td>\n",
       "      <td>500</td>\n",
       "      <td>500</td>\n",
       "      <td>810</td>\n",
       "      <td>1040</td>\n",
       "      <td>1040</td>\n",
       "      <td>1040</td>\n",
       "      <td>1229</td>\n",
       "      <td>1280</td>\n",
       "    </tr>\n",
       "    <tr>\n",
       "      <th>nombre_sub_cuenca</th>\n",
       "      <td>Entre Limite Peru-Bolivia Y Rio Lauca</td>\n",
       "      <td>Rio Lluta Alto</td>\n",
       "      <td>Rio Lluta Alto</td>\n",
       "      <td>Rio Lluta Alto</td>\n",
       "      <td>Rio Lluta Alto</td>\n",
       "      <td>Rio Lluta Alto</td>\n",
       "      <td>Entre Limite Peru-Bolivia Y Rio Lauca</td>\n",
       "      <td>Quebrada De La Concordia</td>\n",
       "      <td>Rio Lluta Alto</td>\n",
       "      <td>Rio Lauca</td>\n",
       "      <td>...</td>\n",
       "      <td>Mapocho Bajo</td>\n",
       "      <td>Mapocho Bajo</td>\n",
       "      <td>Costeras Quilimari - Petorca</td>\n",
       "      <td>Costeras Quilimari - Petorca</td>\n",
       "      <td>Nuble Alto</td>\n",
       "      <td>Costeras Entre Rio Bueno Y Rio Maullin</td>\n",
       "      <td>Costeras Entre Rio Bueno Y Rio Maullin</td>\n",
       "      <td>Costeras Entre Rio Bueno Y Rio Maullin</td>\n",
       "      <td>Costeras Entre Rio Serrano Y Rio Hollenberg</td>\n",
       "      <td>Costeras Del Estrecho Magallanes Entre Fronter...</td>\n",
       "    </tr>\n",
       "    <tr>\n",
       "      <th>inicio_observaciones</th>\n",
       "      <td>1968-05-01 00:00:00</td>\n",
       "      <td>1975-01-01 00:00:00</td>\n",
       "      <td>1971-12-01 00:00:00</td>\n",
       "      <td>2013-06-01 00:00:00</td>\n",
       "      <td>1971-01-01 00:00:00</td>\n",
       "      <td>2001-12-01 00:00:00</td>\n",
       "      <td>1970-01-01 00:00:00</td>\n",
       "      <td>1975-05-01 00:00:00</td>\n",
       "      <td>1978-11-01 00:00:00</td>\n",
       "      <td>1961-04-01 00:00:00</td>\n",
       "      <td>...</td>\n",
       "      <td>1966-02-01 00:00:00</td>\n",
       "      <td>1954-11-01 00:00:00</td>\n",
       "      <td>1963-04-01 00:00:00</td>\n",
       "      <td>1966-08-01 00:00:00</td>\n",
       "      <td>1952-01-01 00:00:00</td>\n",
       "      <td>1965-11-01 00:00:00</td>\n",
       "      <td>1954-01-01 00:00:00</td>\n",
       "      <td>1961-12-01 00:00:00</td>\n",
       "      <td>1999-01-01 00:00:00</td>\n",
       "      <td>1985-04-01 00:00:00</td>\n",
       "    </tr>\n",
       "    <tr>\n",
       "      <th>fin_observaciones</th>\n",
       "      <td>2016-05-01 00:00:00</td>\n",
       "      <td>2016-01-01 00:00:00</td>\n",
       "      <td>2016-01-01 00:00:00</td>\n",
       "      <td>2016-01-01 00:00:00</td>\n",
       "      <td>2016-01-01 00:00:00</td>\n",
       "      <td>2016-01-01 00:00:00</td>\n",
       "      <td>2016-01-01 00:00:00</td>\n",
       "      <td>1981-05-01 00:00:00</td>\n",
       "      <td>1999-05-01 00:00:00</td>\n",
       "      <td>2016-01-01 00:00:00</td>\n",
       "      <td>...</td>\n",
       "      <td>2016-04-01 00:00:00</td>\n",
       "      <td>2016-04-01 00:00:00</td>\n",
       "      <td>2016-04-01 00:00:00</td>\n",
       "      <td>2016-04-01 00:00:00</td>\n",
       "      <td>2016-04-01 00:00:00</td>\n",
       "      <td>2008-04-01 00:00:00</td>\n",
       "      <td>2016-04-01 00:00:00</td>\n",
       "      <td>2016-04-01 00:00:00</td>\n",
       "      <td>2016-04-01 00:00:00</td>\n",
       "      <td>2016-04-01 00:00:00</td>\n",
       "    </tr>\n",
       "    <tr>\n",
       "      <th>cantidad_observaciones</th>\n",
       "      <td>552</td>\n",
       "      <td>474</td>\n",
       "      <td>526</td>\n",
       "      <td>25</td>\n",
       "      <td>531</td>\n",
       "      <td>160</td>\n",
       "      <td>493</td>\n",
       "      <td>69</td>\n",
       "      <td>243</td>\n",
       "      <td>625</td>\n",
       "      <td>...</td>\n",
       "      <td>590</td>\n",
       "      <td>572</td>\n",
       "      <td>625</td>\n",
       "      <td>590</td>\n",
       "      <td>325</td>\n",
       "      <td>394</td>\n",
       "      <td>682</td>\n",
       "      <td>587</td>\n",
       "      <td>116</td>\n",
       "      <td>341</td>\n",
       "    </tr>\n",
       "  </tbody>\n",
       "</table>\n",
       "<p>14 rows × 1150 columns</p>\n",
       "</div>"
      ],
      "text/plain": [
       "                                                         1     \\\n",
       "0                                                               \n",
       "codigo_estacion                                      01000005   \n",
       "institucion                                               DGA   \n",
       "fuente                                                dga_web   \n",
       "nombre                                                Visviri   \n",
       "altura                                                   4080   \n",
       "latitud                                               -17.595   \n",
       "longitud                                             -69.4831   \n",
       "codigo_cuenca                                              10   \n",
       "nombre_cuenca                                    Altiplanicas   \n",
       "codigo_sub_cuenca                                         100   \n",
       "nombre_sub_cuenca       Entre Limite Peru-Bolivia Y Rio Lauca   \n",
       "inicio_observaciones                      1968-05-01 00:00:00   \n",
       "fin_observaciones                         2016-05-01 00:00:00   \n",
       "cantidad_observaciones                                    552   \n",
       "\n",
       "                                             2                    3     \\\n",
       "0                                                                        \n",
       "codigo_estacion                          01200002             01200003   \n",
       "institucion                                   DGA                  DGA   \n",
       "fuente                                    dga_web              dga_web   \n",
       "nombre                  Villa Industrial (Tacora)            Humapalca   \n",
       "altura                                       4080                 3980   \n",
       "latitud                                  -17.7719              -17.835   \n",
       "longitud                                 -69.7244             -69.7039   \n",
       "codigo_cuenca                                  12                   12   \n",
       "nombre_cuenca                           Rio Lluta            Rio Lluta   \n",
       "codigo_sub_cuenca                             120                  120   \n",
       "nombre_sub_cuenca                  Rio Lluta Alto       Rio Lluta Alto   \n",
       "inicio_observaciones          1975-01-01 00:00:00  1971-12-01 00:00:00   \n",
       "fin_observaciones             2016-01-01 00:00:00  2016-01-01 00:00:00   \n",
       "cantidad_observaciones                        474                  526   \n",
       "\n",
       "                                               4                    5     \\\n",
       "0                                                                          \n",
       "codigo_estacion                            01201005             01201010   \n",
       "institucion                                     DGA                  DGA   \n",
       "fuente                                      dga_web              dga_web   \n",
       "nombre                  Rio Caracarani En Humapalca            Alcerreca   \n",
       "altura                                         3908                 3990   \n",
       "latitud                                    -17.8428             -17.9931   \n",
       "longitud                                   -69.6994             -69.6594   \n",
       "codigo_cuenca                                    12                   12   \n",
       "nombre_cuenca                             Rio Lluta            Rio Lluta   \n",
       "codigo_sub_cuenca                               120                  120   \n",
       "nombre_sub_cuenca                    Rio Lluta Alto       Rio Lluta Alto   \n",
       "inicio_observaciones            2013-06-01 00:00:00  1971-01-01 00:00:00   \n",
       "fin_observaciones               2016-01-01 00:00:00  2016-01-01 00:00:00   \n",
       "cantidad_observaciones                           25                  531   \n",
       "\n",
       "                                          6     \\\n",
       "0                                                \n",
       "codigo_estacion                       01201003   \n",
       "institucion                                DGA   \n",
       "fuente                                 dga_web   \n",
       "nombre                  Rio Lluta En Alcerreca   \n",
       "altura                                    3550   \n",
       "latitud                               -18.0036   \n",
       "longitud                              -69.6331   \n",
       "codigo_cuenca                               12   \n",
       "nombre_cuenca                        Rio Lluta   \n",
       "codigo_sub_cuenca                          120   \n",
       "nombre_sub_cuenca               Rio Lluta Alto   \n",
       "inicio_observaciones       2001-12-01 00:00:00   \n",
       "fin_observaciones          2016-01-01 00:00:00   \n",
       "cantidad_observaciones                     160   \n",
       "\n",
       "                                                         7     \\\n",
       "0                                                               \n",
       "codigo_estacion                                      01001005   \n",
       "institucion                                               DGA   \n",
       "fuente                                                dga_web   \n",
       "nombre                                                Caquena   \n",
       "altura                                                   4400   \n",
       "latitud                                              -18.0542   \n",
       "longitud                                             -69.2017   \n",
       "codigo_cuenca                                              10   \n",
       "nombre_cuenca                                    Altiplanicas   \n",
       "codigo_sub_cuenca                                         100   \n",
       "nombre_sub_cuenca       Entre Limite Peru-Bolivia Y Rio Lauca   \n",
       "inicio_observaciones                      1970-01-01 00:00:00   \n",
       "fin_observaciones                         2016-01-01 00:00:00   \n",
       "cantidad_observaciones                                    493   \n",
       "\n",
       "                                            8                    9     \\\n",
       "0                                                                       \n",
       "codigo_estacion                         01110001             01202009   \n",
       "institucion                                  DGA                  DGA   \n",
       "fuente                                   dga_web              dga_web   \n",
       "nombre                                   Puquios              Pacollo   \n",
       "altura                                      3750                 4185   \n",
       "latitud                                 -18.1747             -18.1769   \n",
       "longitud                                -69.7439             -69.5092   \n",
       "codigo_cuenca                                 11                   12   \n",
       "nombre_cuenca           Quebrada De La Concordia            Rio Lluta   \n",
       "codigo_sub_cuenca                            111                  120   \n",
       "nombre_sub_cuenca       Quebrada De La Concordia       Rio Lluta Alto   \n",
       "inicio_observaciones         1975-05-01 00:00:00  1978-11-01 00:00:00   \n",
       "fin_observaciones            1981-05-01 00:00:00  1999-05-01 00:00:00   \n",
       "cantidad_observaciones                        69                  243   \n",
       "\n",
       "                                       10    \\\n",
       "0                                             \n",
       "codigo_estacion                    01020014   \n",
       "institucion                             DGA   \n",
       "fuente                              dga_web   \n",
       "nombre                           Cotacotani   \n",
       "altura                                 4550   \n",
       "latitud                            -18.1836   \n",
       "longitud                           -69.2328   \n",
       "codigo_cuenca                            10   \n",
       "nombre_cuenca                  Altiplanicas   \n",
       "codigo_sub_cuenca                       102   \n",
       "nombre_sub_cuenca                 Rio Lauca   \n",
       "inicio_observaciones    1961-04-01 00:00:00   \n",
       "fin_observaciones       2016-01-01 00:00:00   \n",
       "cantidad_observaciones                  625   \n",
       "\n",
       "                                              ...                          \\\n",
       "0                                             ...                           \n",
       "codigo_estacion                               ...                           \n",
       "institucion                                   ...                           \n",
       "fuente                                        ...                           \n",
       "nombre                                        ...                           \n",
       "altura                                        ...                           \n",
       "latitud                                       ...                           \n",
       "longitud                                      ...                           \n",
       "codigo_cuenca                                 ...                           \n",
       "nombre_cuenca                                 ...                           \n",
       "codigo_sub_cuenca                             ...                           \n",
       "nombre_sub_cuenca                             ...                           \n",
       "inicio_observaciones                          ...                           \n",
       "fin_observaciones                             ...                           \n",
       "cantidad_observaciones                        ...                           \n",
       "\n",
       "                                       1141                          1142  \\\n",
       "0                                                                           \n",
       "codigo_estacion                      330021                        330019   \n",
       "institucion                             DMC                           DMC   \n",
       "fuente                              dmc_web                       dmc_web   \n",
       "nombre                    Pudahuel Santiago  Eulogio Sanchez Tobalaba Ad.   \n",
       "altura                                  482                           650   \n",
       "latitud                            -33.3919                      -33.4544   \n",
       "longitud                           -70.7944                      -70.5478   \n",
       "codigo_cuenca                            57                            57   \n",
       "nombre_cuenca                     Rio Maipo                     Rio Maipo   \n",
       "codigo_sub_cuenca                       573                           573   \n",
       "nombre_sub_cuenca              Mapocho Bajo                  Mapocho Bajo   \n",
       "inicio_observaciones    1966-02-01 00:00:00           1954-11-01 00:00:00   \n",
       "fin_observaciones       2016-04-01 00:00:00           2016-04-01 00:00:00   \n",
       "cantidad_observaciones                  590                           572   \n",
       "\n",
       "                                                         1143  \\\n",
       "0                                                               \n",
       "codigo_estacion                                        330031   \n",
       "institucion                                               DMC   \n",
       "fuente                                                dmc_web   \n",
       "nombre                  Juan Fernandez Estacion Meteorologica   \n",
       "altura                                                     35   \n",
       "latitud                                              -33.6367   \n",
       "longitud                                              -78.835   \n",
       "codigo_cuenca                                              50   \n",
       "nombre_cuenca                      Costeras Quilimari-Petorca   \n",
       "codigo_sub_cuenca                                         500   \n",
       "nombre_sub_cuenca                Costeras Quilimari - Petorca   \n",
       "inicio_observaciones                      1963-04-01 00:00:00   \n",
       "fin_observaciones                         2016-04-01 00:00:00   \n",
       "cantidad_observaciones                                    625   \n",
       "\n",
       "                                                1144  \\\n",
       "0                                                      \n",
       "codigo_estacion                               330030   \n",
       "institucion                                      DMC   \n",
       "fuente                                       dmc_web   \n",
       "nombre                             Santo Domingo Ad.   \n",
       "altura                                            75   \n",
       "latitud                                      -33.655   \n",
       "longitud                                    -71.6142   \n",
       "codigo_cuenca                                     50   \n",
       "nombre_cuenca             Costeras Quilimari-Petorca   \n",
       "codigo_sub_cuenca                                500   \n",
       "nombre_sub_cuenca       Costeras Quilimari - Petorca   \n",
       "inicio_observaciones             1966-08-01 00:00:00   \n",
       "fin_observaciones                2016-04-01 00:00:00   \n",
       "cantidad_observaciones                           590   \n",
       "\n",
       "                                                 1145  \\\n",
       "0                                                       \n",
       "codigo_estacion                                370033   \n",
       "institucion                                       DMC   \n",
       "fuente                                        dmc_web   \n",
       "nombre                  Maria Dolores Los Angeles Ad.   \n",
       "altura                                            120   \n",
       "latitud                                      -37.4028   \n",
       "longitud                                     -72.4225   \n",
       "codigo_cuenca                                      81   \n",
       "nombre_cuenca                               Rio Itata   \n",
       "codigo_sub_cuenca                                 810   \n",
       "nombre_sub_cuenca                          Nuble Alto   \n",
       "inicio_observaciones              1952-01-01 00:00:00   \n",
       "fin_observaciones                 2016-04-01 00:00:00   \n",
       "cantidad_observaciones                            325   \n",
       "\n",
       "                                                            1146  \\\n",
       "0                                                                  \n",
       "codigo_estacion                                           420004   \n",
       "institucion                                                  DMC   \n",
       "fuente                                                   dmc_web   \n",
       "nombre                                               Chaiten Ad.   \n",
       "altura                                                        10   \n",
       "latitud                                                 -42.9303   \n",
       "longitud                                                -72.7008   \n",
       "codigo_cuenca                                                104   \n",
       "nombre_cuenca           Cuencas E Islas Entre R.Bueno Y R. Puelo   \n",
       "codigo_sub_cuenca                                           1040   \n",
       "nombre_sub_cuenca         Costeras Entre Rio Bueno Y Rio Maullin   \n",
       "inicio_observaciones                         1965-11-01 00:00:00   \n",
       "fin_observaciones                            2008-04-01 00:00:00   \n",
       "cantidad_observaciones                                       394   \n",
       "\n",
       "                                                            1147  \\\n",
       "0                                                                  \n",
       "codigo_estacion                                           430002   \n",
       "institucion                                                  DMC   \n",
       "fuente                                                   dmc_web   \n",
       "nombre                                             Futaleufu Ad.   \n",
       "altura                                                       347   \n",
       "latitud                                                 -43.1889   \n",
       "longitud                                                -71.8525   \n",
       "codigo_cuenca                                                104   \n",
       "nombre_cuenca           Cuencas E Islas Entre R.Bueno Y R. Puelo   \n",
       "codigo_sub_cuenca                                           1040   \n",
       "nombre_sub_cuenca         Costeras Entre Rio Bueno Y Rio Maullin   \n",
       "inicio_observaciones                         1954-01-01 00:00:00   \n",
       "fin_observaciones                            2016-04-01 00:00:00   \n",
       "cantidad_observaciones                                       682   \n",
       "\n",
       "                                                            1148  \\\n",
       "0                                                                  \n",
       "codigo_estacion                                           430004   \n",
       "institucion                                                  DMC   \n",
       "fuente                                                   dmc_web   \n",
       "nombre                                            Alto Palenaad.   \n",
       "altura                                                       281   \n",
       "latitud                                                 -43.6117   \n",
       "longitud                                                -71.8053   \n",
       "codigo_cuenca                                                104   \n",
       "nombre_cuenca           Cuencas E Islas Entre R.Bueno Y R. Puelo   \n",
       "codigo_sub_cuenca                                           1040   \n",
       "nombre_sub_cuenca         Costeras Entre Rio Bueno Y Rio Maullin   \n",
       "inicio_observaciones                         1961-12-01 00:00:00   \n",
       "fin_observaciones                            2016-04-01 00:00:00   \n",
       "cantidad_observaciones                                       587   \n",
       "\n",
       "                                                                     1149  \\\n",
       "0                                                                           \n",
       "codigo_estacion                                                    510005   \n",
       "institucion                                                           DMC   \n",
       "fuente                                                            dmc_web   \n",
       "nombre                               Teniente Gallardo Puerto Natales Ad.   \n",
       "altura                                                                 69   \n",
       "latitud                                                          -51.6672   \n",
       "longitud                                                         -72.5289   \n",
       "codigo_cuenca                                                         122   \n",
       "nombre_cuenca           Costeras Entre Seno Andrew Y R. Hollemberg E I...   \n",
       "codigo_sub_cuenca                                                    1229   \n",
       "nombre_sub_cuenca             Costeras Entre Rio Serrano Y Rio Hollenberg   \n",
       "inicio_observaciones                                  1999-01-01 00:00:00   \n",
       "fin_observaciones                                     2016-04-01 00:00:00   \n",
       "cantidad_observaciones                                                116   \n",
       "\n",
       "                                                                     1150  \n",
       "0                                                                          \n",
       "codigo_estacion                                                    530005  \n",
       "institucion                                                           DMC  \n",
       "fuente                                                            dmc_web  \n",
       "nombre                                      Fuentes Martinez Porvenir Ad.  \n",
       "altura                                                                 27  \n",
       "latitud                                                          -53.1875  \n",
       "longitud                                                         -70.3203  \n",
       "codigo_cuenca                                                         128  \n",
       "nombre_cuenca                                            Tierra Del Fuego  \n",
       "codigo_sub_cuenca                                                    1280  \n",
       "nombre_sub_cuenca       Costeras Del Estrecho Magallanes Entre Fronter...  \n",
       "inicio_observaciones                                  1985-04-01 00:00:00  \n",
       "fin_observaciones                                     2016-04-01 00:00:00  \n",
       "cantidad_observaciones                                                341  \n",
       "\n",
       "[14 rows x 1150 columns]"
      ]
     },
     "execution_count": 8,
     "metadata": {},
     "output_type": "execute_result"
    }
   ],
   "source": [
    "print prec.meta.info()\n",
    "prec.meta"
   ]
  },
  {
   "cell_type": "code",
   "execution_count": 9,
   "metadata": {
    "collapsed": false
   },
   "outputs": [
    {
     "data": {
      "text/plain": [
       "count    552.000000\n",
       "mean      24.184239\n",
       "std       41.947654\n",
       "min        0.000000\n",
       "25%        0.000000\n",
       "50%        1.500000\n",
       "75%       30.000000\n",
       "max      227.200000\n",
       "Name: 1, dtype: float64"
      ]
     },
     "execution_count": 9,
     "metadata": {},
     "output_type": "execute_result"
    }
   ],
   "source": [
    "prec.df[1].describe()"
   ]
  },
  {
   "cell_type": "code",
   "execution_count": 10,
   "metadata": {
    "collapsed": false
   },
   "outputs": [
    {
     "data": {
      "text/plain": [
       "0\n",
       "codigo_estacion                                        01000005\n",
       "institucion                                                 DGA\n",
       "fuente                                                  dga_web\n",
       "nombre                                                  Visviri\n",
       "altura                                                     4080\n",
       "latitud                                                 -17.595\n",
       "longitud                                               -69.4831\n",
       "codigo_cuenca                                                10\n",
       "nombre_cuenca                                      Altiplanicas\n",
       "codigo_sub_cuenca                                           100\n",
       "nombre_sub_cuenca         Entre Limite Peru-Bolivia Y Rio Lauca\n",
       "inicio_observaciones                        1968-05-01 00:00:00\n",
       "fin_observaciones                           2016-05-01 00:00:00\n",
       "cantidad_observaciones                                      552\n",
       "Name: 1, dtype: object"
      ]
     },
     "execution_count": 10,
     "metadata": {},
     "output_type": "execute_result"
    }
   ],
   "source": [
    "prec.meta[1]"
   ]
  },
  {
   "cell_type": "markdown",
   "metadata": {},
   "source": [
    "### Ejemplo con otras variables"
   ]
  },
  {
   "cell_type": "code",
   "execution_count": 11,
   "metadata": {
    "collapsed": false
   },
   "outputs": [
    {
     "data": {
      "text/html": [
       "<div>\n",
       "<table border=\"1\" class=\"dataframe\">\n",
       "  <thead>\n",
       "    <tr style=\"text-align: right;\">\n",
       "      <th></th>\n",
       "      <th>codigo_estacion</th>\n",
       "      <th>institucion</th>\n",
       "      <th>fuente</th>\n",
       "      <th>nombre</th>\n",
       "      <th>altura</th>\n",
       "      <th>latitud</th>\n",
       "      <th>longitud</th>\n",
       "      <th>codigo_cuenca</th>\n",
       "      <th>nombre_cuenca</th>\n",
       "      <th>codigo_sub_cuenca</th>\n",
       "      <th>nombre_sub_cuenca</th>\n",
       "      <th>inicio_observaciones</th>\n",
       "      <th>fin_observaciones</th>\n",
       "      <th>cantidad_observaciones</th>\n",
       "    </tr>\n",
       "  </thead>\n",
       "  <tbody>\n",
       "    <tr>\n",
       "      <th>147</th>\n",
       "      <td>04320001</td>\n",
       "      <td>DGA</td>\n",
       "      <td>dga_web</td>\n",
       "      <td>Rio Elqui En Algarrobal</td>\n",
       "      <td>760</td>\n",
       "      <td>-29.9953</td>\n",
       "      <td>-70.5867</td>\n",
       "      <td>43</td>\n",
       "      <td>Rio Elqui</td>\n",
       "      <td>432</td>\n",
       "      <td>R. Elqui Medio</td>\n",
       "      <td>1930-01-01 00:00:00</td>\n",
       "      <td>2016-04-01 00:00:00</td>\n",
       "      <td>804</td>\n",
       "    </tr>\n",
       "  </tbody>\n",
       "</table>\n",
       "</div>"
      ],
      "text/plain": [
       "0   codigo_estacion institucion   fuente                   nombre altura  \\\n",
       "147        04320001         DGA  dga_web  Rio Elqui En Algarrobal    760   \n",
       "\n",
       "0     latitud  longitud codigo_cuenca nombre_cuenca codigo_sub_cuenca  \\\n",
       "147  -29.9953  -70.5867            43     Rio Elqui               432   \n",
       "\n",
       "0   nombre_sub_cuenca inicio_observaciones    fin_observaciones  \\\n",
       "147    R. Elqui Medio  1930-01-01 00:00:00  2016-04-01 00:00:00   \n",
       "\n",
       "0   cantidad_observaciones  \n",
       "147                    804  "
      ]
     },
     "execution_count": 11,
     "metadata": {},
     "output_type": "execute_result"
    }
   ],
   "source": [
    "caud.busca('Algarrobal')"
   ]
  },
  {
   "cell_type": "code",
   "execution_count": 12,
   "metadata": {
    "collapsed": false
   },
   "outputs": [
    {
     "name": "stdout",
     "output_type": "stream",
     "text": [
      "['Rio Lluta' 'Altiplanicas' 'Rio San Jose'\n",
      " 'Costeras R.San Jose-Q.Camarones' 'Q. Rio Camarones'\n",
      " 'Costeras R.Camarones-Pampa Del Tamarugal' 'Pampa Del Tamarugal' 'Rio Loa'\n",
      " 'Salar De Atacama' 'Endorreicas Entre Frontera Y Vertiente' 'Rio Copiapo'\n",
      " 'Rio Huasco' 'Rio Los Choros' 'Rio Elqui' 'Costeras R.Elqui-R.Limari'\n",
      " 'Rio Limari' 'Rio Choapa' 'Costeras R.Choapa-R.Quilimari'\n",
      " 'Costeras Entre R.Choapa Y R.Quilimari' 'Rio Petorca' 'Rio Quilimari'\n",
      " 'Rio Ligua' 'Rio Aconcagua' 'Costeras Ligua-Aconcagua' 'Rio Maipo'\n",
      " 'Costeras Aconcagua-Maipo' 'Rio Rapel' 'Costeras Rapel-E. Nilahue'\n",
      " 'Rio Mataquito' 'Rio Maule' 'Costeras Mataquito-Maule'\n",
      " 'Costeras Maule-Limite Octava R.' 'Rio Itata'\n",
      " 'Costeras E Islas Entre Rio Itata Y Rio Bio-Bio' 'Rio Bio-Bio'\n",
      " 'Costeras E Islas Entre Rios Bio-Bio Y Carampangue' 'Rio Carampangue'\n",
      " 'Rio Lebu' 'Costeras Lebu-Paicavi' 'Rio Imperial'\n",
      " 'Costeras E Islas Entre R. Paicavi Y Limite Reg.' 'Rio Tolten'\n",
      " 'Rio Valdivia' 'Rio Bueno' 'Cuencas E Islas R. Bueno - R. Puelo'\n",
      " 'Cuencas E Islas Entre R.Bueno Y R. Puelo' 'Rio Puelo'\n",
      " 'Islas Chiloe Y Circundantes' 'Costeras Entre R.Puelo Y R.Yelcho'\n",
      " 'Rio Yelcho' 'Rio Palena Y Costeras Limite Decima Region'\n",
      " 'Costeras E Islas R. Palena - R. Aisen' 'Rio Aisen'\n",
      " 'Costeras E Islas R Aisen R Baker C. Gral. Martinez' 'Rio Baker'\n",
      " 'Rio Pascua'\n",
      " 'Islas Entre Limite Region Y Canal Ancho Y Estrecho De La Concepcion'\n",
      " 'Costeras Entre Seno Andrew Y R. Hollemberg E Islas Al Oriente'\n",
      " 'Costeras Seno Andrew  R Hollemberg'\n",
      " 'Costeras E Islas Entre R Hollemberg Golfo Alte. Laguna Blanca'\n",
      " 'Costeras E Islas R Hollemberg  Laguna Blanca' 'Vertiente Del Atlantico'\n",
      " 'Tierra Del Fuego' 'Costeras L Blanca E Magallanes'\n",
      " 'Costeras Entre Lag.  Blanca(Inc) Seno Otway Canal Jeronimo Y Magallanes'\n",
      " 'Islas Al Sur Del Canal Beagle Y Territorio Antartico']\n"
     ]
    },
    {
     "data": {
      "text/html": [
       "<div>\n",
       "<table border=\"1\" class=\"dataframe\">\n",
       "  <thead>\n",
       "    <tr style=\"text-align: right;\">\n",
       "      <th></th>\n",
       "      <th>codigo_estacion</th>\n",
       "      <th>institucion</th>\n",
       "      <th>fuente</th>\n",
       "      <th>nombre</th>\n",
       "      <th>altura</th>\n",
       "      <th>latitud</th>\n",
       "      <th>longitud</th>\n",
       "      <th>codigo_cuenca</th>\n",
       "      <th>nombre_cuenca</th>\n",
       "      <th>codigo_sub_cuenca</th>\n",
       "      <th>nombre_sub_cuenca</th>\n",
       "      <th>inicio_observaciones</th>\n",
       "      <th>fin_observaciones</th>\n",
       "      <th>cantidad_observaciones</th>\n",
       "    </tr>\n",
       "  </thead>\n",
       "  <tbody>\n",
       "    <tr>\n",
       "      <th>31</th>\n",
       "      <td>01502008</td>\n",
       "      <td>DGA</td>\n",
       "      <td>dga_web</td>\n",
       "      <td>Rio Camarones En Chilpe</td>\n",
       "      <td>1565</td>\n",
       "      <td>-18.9431</td>\n",
       "      <td>-69.6197</td>\n",
       "      <td>15</td>\n",
       "      <td>Q. Rio Camarones</td>\n",
       "      <td>150</td>\n",
       "      <td>Rio Camarones Antes Junta Quebrada De Chiza</td>\n",
       "      <td>2005-12-01 00:00:00</td>\n",
       "      <td>2014-02-01 00:00:00</td>\n",
       "      <td>63</td>\n",
       "    </tr>\n",
       "    <tr>\n",
       "      <th>32</th>\n",
       "      <td>01502002</td>\n",
       "      <td>DGA</td>\n",
       "      <td>dga_web</td>\n",
       "      <td>Rio Camarones En Conanoxa</td>\n",
       "      <td>710</td>\n",
       "      <td>-19.0444</td>\n",
       "      <td>-69.9842</td>\n",
       "      <td>15</td>\n",
       "      <td>Q. Rio Camarones</td>\n",
       "      <td>150</td>\n",
       "      <td>Rio Camarones Antes Junta Quebrada De Chiza</td>\n",
       "      <td>1958-05-01 00:00:00</td>\n",
       "      <td>2015-12-01 00:00:00</td>\n",
       "      <td>419</td>\n",
       "    </tr>\n",
       "  </tbody>\n",
       "</table>\n",
       "</div>"
      ],
      "text/plain": [
       "0  codigo_estacion institucion   fuente                     nombre altura  \\\n",
       "31        01502008         DGA  dga_web    Rio Camarones En Chilpe   1565   \n",
       "32        01502002         DGA  dga_web  Rio Camarones En Conanoxa    710   \n",
       "\n",
       "0    latitud  longitud codigo_cuenca     nombre_cuenca codigo_sub_cuenca  \\\n",
       "31  -18.9431  -69.6197            15  Q. Rio Camarones               150   \n",
       "32  -19.0444  -69.9842            15  Q. Rio Camarones               150   \n",
       "\n",
       "0                             nombre_sub_cuenca inicio_observaciones  \\\n",
       "31  Rio Camarones Antes Junta Quebrada De Chiza  2005-12-01 00:00:00   \n",
       "32  Rio Camarones Antes Junta Quebrada De Chiza  1958-05-01 00:00:00   \n",
       "\n",
       "0     fin_observaciones cantidad_observaciones  \n",
       "31  2014-02-01 00:00:00                     63  \n",
       "32  2015-12-01 00:00:00                    419  "
      ]
     },
     "execution_count": 12,
     "metadata": {},
     "output_type": "execute_result"
    }
   ],
   "source": [
    "# caud.meta.T # Listado de todas las estaciones\n",
    "print caud.meta.T.nombre_cuenca.unique()\n",
    "caud.busca('Rio Camarones', 'nombre_cuenca')"
   ]
  },
  {
   "cell_type": "code",
   "execution_count": 13,
   "metadata": {
    "collapsed": false
   },
   "outputs": [
    {
     "data": {
      "image/png": "[encoded data removed]",
      "text/plain": [
       "<matplotlib.figure.Figure at 0xa5c8c50>"
      ]
     },
     "metadata": {},
     "output_type": "display_data"
    }
   ],
   "source": [
    "caud.plot_month(31)"
   ]
  },
  {
   "cell_type": "code",
   "execution_count": 14,
   "metadata": {
    "collapsed": false
   },
   "outputs": [
    {
     "data": {
      "image/png": "[encoded data removed]",
      "text/plain": [
       "<matplotlib.figure.Figure at 0xa92eba8>"
      ]
     },
     "metadata": {},
     "output_type": "display_data"
    }
   ],
   "source": [
    "caud.plot_simple(31)"
   ]
  },
  {
   "cell_type": "markdown",
   "metadata": {},
   "source": [
    "### Acceso directo a datos desde DataFrame"
   ]
  },
  {
   "cell_type": "code",
   "execution_count": 15,
   "metadata": {
    "collapsed": false
   },
   "outputs": [
    {
     "data": {
      "text/plain": [
       "<matplotlib.text.Text at 0xbe1a470>"
      ]
     },
     "execution_count": 15,
     "metadata": {},
     "output_type": "execute_result"
    },
    {
     "data": {
      "image/png": "[encoded data removed]",
      "text/plain": [
       "<matplotlib.figure.Figure at 0xa4e9f98>"
      ]
     },
     "metadata": {},
     "output_type": "display_data"
    }
   ],
   "source": [
    "ax = temp.df.loc[:,:10].plot(kind='box')\n",
    "_ = ax.set_xticklabels(temp.meta.loc['nombre',:10].values, rotation=90)\n",
    "ax.set_ylabel('%s %s'%(temp.var, temp.units))"
   ]
  },
  {
   "cell_type": "code",
   "execution_count": 16,
   "metadata": {
    "collapsed": false
   },
   "outputs": [
    {
     "data": {
      "text/plain": [
       "<matplotlib.axes._subplots.AxesSubplot at 0xc0083c8>"
      ]
     },
     "execution_count": 16,
     "metadata": {},
     "output_type": "execute_result"
    },
    {
     "data": {
      "image/png": "[encoded data removed]",
      "text/plain": [
       "<matplotlib.figure.Figure at 0xa6681d0>"
      ]
     },
     "metadata": {},
     "output_type": "display_data"
    }
   ],
   "source": [
    "tmin.df.loc[:,2].dropna().plot(kind='kde', title=tmin.meta[2].nombre)"
   ]
  },
  {
   "cell_type": "code",
   "execution_count": 17,
   "metadata": {
    "collapsed": false
   },
   "outputs": [
    {
     "data": {
      "text/plain": [
       "<matplotlib.axes._subplots.AxesSubplot at 0xc0c4400>"
      ]
     },
     "execution_count": 17,
     "metadata": {},
     "output_type": "execute_result"
    },
    {
     "data": {
      "image/png": "[encoded data removed]",
      "text/plain": [
       "<matplotlib.figure.Figure at 0xa668518>"
      ]
     },
     "metadata": {},
     "output_type": "display_data"
    }
   ],
   "source": [
    "tmax.df.loc[:,2].plot(kind='hist')"
   ]
  },
  {
   "cell_type": "code",
   "execution_count": 18,
   "metadata": {
    "collapsed": false,
    "scrolled": true
   },
   "outputs": [
    {
     "data": {
      "text/plain": [
       "<matplotlib.text.Text at 0xa91d320>"
      ]
     },
     "execution_count": 18,
     "metadata": {},
     "output_type": "execute_result"
    },
    {
     "data": {
      "image/png": "[encoded data removed]",
      "text/plain": [
       "<matplotlib.figure.Figure at 0xa6685f8>"
      ]
     },
     "metadata": {},
     "output_type": "display_data"
    }
   ],
   "source": [
    "caud.df.plot(294,311, kind='scatter')\n",
    "plt.xlabel(caud.meta[294].nombre)\n",
    "plt.ylabel(caud.meta[311].nombre)"
   ]
  },
  {
   "cell_type": "markdown",
   "metadata": {},
   "source": [
    "[Ver Computational tools de Pandas](http://pandas.pydata.org/pandas-docs/stable/computation.html)"
   ]
  },
  {
   "cell_type": "code",
   "execution_count": 19,
   "metadata": {
    "collapsed": false,
    "scrolled": true
   },
   "outputs": [
    {
     "data": {
      "text/plain": [
       "<matplotlib.text.Text at 0xaaa1160>"
      ]
     },
     "execution_count": 19,
     "metadata": {},
     "output_type": "execute_result"
    },
    {
     "data": {
      "image/png": "[encoded data removed]",
      "text/plain": [
       "<matplotlib.figure.Figure at 0xa902240>"
      ]
     },
     "metadata": {},
     "output_type": "display_data"
    }
   ],
   "source": [
    "fig, ax = plt.subplots(facecolor='w')\n",
    "prec.df[280].dropna().plot(ax=ax, style='x')\n",
    "# Progressive quantile 90%\n",
    "prec.df[280].dropna().expanding().quantile(.9).plot(ax=ax)\n",
    "# Progressive averages\n",
    "prec.df[280].dropna().expanding().mean().plot(ax=ax, title=tmin.meta[2].nombre)\n",
    "plt.legend(['prec','q90','mean'])\n",
    "ax.set_ylabel('%s %s'%(prec.var, prec.units))"
   ]
  },
  {
   "cell_type": "code",
   "execution_count": 20,
   "metadata": {
    "collapsed": false
   },
   "outputs": [
    {
     "data": {
      "text/plain": [
       "<matplotlib.text.Text at 0x6de3080>"
      ]
     },
     "execution_count": 20,
     "metadata": {},
     "output_type": "execute_result"
    },
    {
     "data": {
      "image/png": "[encoded data removed]",
      "text/plain": [
       "<matplotlib.figure.Figure at 0xa718080>"
      ]
     },
     "metadata": {},
     "output_type": "display_data"
    }
   ],
   "source": [
    "# Media movil de 12 meses\n",
    "ax = prec.df[280].dropna().rolling(window=12).mean().plot(style='.--')\n",
    "ax.set_ylabel('%s %s'%(prec.var, prec.units))"
   ]
  },
  {
   "cell_type": "code",
   "execution_count": null,
   "metadata": {
    "collapsed": false
   },
   "outputs": [],
   "source": []
  }
 ],
 "metadata": {
  "kernelspec": {
   "display_name": "Python 2",
   "language": "python",
   "name": "python2"
  },
  "language_info": {
   "codemirror_mode": {
    "name": "ipython",
    "version": 2
   },
   "file_extension": ".py",
   "mimetype": "text/x-python",
   "name": "python",
   "nbconvert_exporter": "python",
   "pygments_lexer": "ipython2",
   "version": "2.7.11"
  }
 },
 "nbformat": 4,
 "nbformat_minor": 0
}
